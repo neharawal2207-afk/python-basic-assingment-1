{
  "nbformat": 4,
  "nbformat_minor": 0,
  "metadata": {
    "colab": {
      "provenance": []
    },
    "kernelspec": {
      "name": "python3",
      "display_name": "Python 3"
    },
    "language_info": {
      "name": "python"
    }
  },
  "cells": [
    {
      "cell_type": "markdown",
      "source": [
        "Practical Questions"
      ],
      "metadata": {
        "id": "vM9nyl9hb2xO"
      }
    },
    {
      "cell_type": "markdown",
      "source": [
        "Write a Python program to print \"Hello, World!"
      ],
      "metadata": {
        "id": "UwGk66Hab8AN"
      }
    },
    {
      "cell_type": "code",
      "source": [
        "print(\"Hello, World!\")"
      ],
      "metadata": {
        "colab": {
          "base_uri": "https://localhost:8080/"
        },
        "id": "GKcNcuHbcHUR",
        "outputId": "175eecb6-0580-4854-db46-9b288deb2698"
      },
      "execution_count": null,
      "outputs": [
        {
          "output_type": "stream",
          "name": "stdout",
          "text": [
            "Hello, World!\n"
          ]
        }
      ]
    },
    {
      "cell_type": "markdown",
      "source": [
        "2.Write a Python program that displays your name and age"
      ],
      "metadata": {
        "id": "Sv6JSoSOc8tV"
      }
    },
    {
      "cell_type": "code",
      "source": [
        "name = \"Ankita\"\n",
        "age = 75\n",
        "print(\"My name is\", name)\n",
        "print(\"I am\", age, \"years old.\")"
      ],
      "metadata": {
        "colab": {
          "base_uri": "https://localhost:8080/"
        },
        "id": "3krf-im7eE_S",
        "outputId": "7e846923-fac3-4a64-cbae-b8562f49f3d5"
      },
      "execution_count": null,
      "outputs": [
        {
          "output_type": "stream",
          "name": "stdout",
          "text": [
            "My name is Ankita\n",
            "I am 75 years old.\n"
          ]
        }
      ]
    },
    {
      "cell_type": "markdown",
      "source": [
        "Write code to print all the pre-defined keywords in Python using the keyword library"
      ],
      "metadata": {
        "id": "lNz4E4DNedWf"
      }
    },
    {
      "cell_type": "code",
      "source": [
        "# Import the keyword module\n",
        "import keyword\n",
        "\n",
        "# Get the list of all keywords\n",
        "keywords = keyword.kwlist\n",
        "\n",
        "# Display the keywords\n",
        "print(\"Python keywords are:\")\n",
        "for kw in keywords:\n",
        "    print(kw)\n"
      ],
      "metadata": {
        "colab": {
          "base_uri": "https://localhost:8080/"
        },
        "id": "f6v8qKPcfcru",
        "outputId": "6d2c5d53-403e-41dd-b864-3385750030ec"
      },
      "execution_count": null,
      "outputs": [
        {
          "output_type": "stream",
          "name": "stdout",
          "text": [
            "Python keywords are:\n",
            "False\n",
            "None\n",
            "True\n",
            "and\n",
            "as\n",
            "assert\n",
            "async\n",
            "await\n",
            "break\n",
            "class\n",
            "continue\n",
            "def\n",
            "del\n",
            "elif\n",
            "else\n",
            "except\n",
            "finally\n",
            "for\n",
            "from\n",
            "global\n",
            "if\n",
            "import\n",
            "in\n",
            "is\n",
            "lambda\n",
            "nonlocal\n",
            "not\n",
            "or\n",
            "pass\n",
            "raise\n",
            "return\n",
            "try\n",
            "while\n",
            "with\n",
            "yield\n"
          ]
        }
      ]
    },
    {
      "cell_type": "markdown",
      "source": [
        "Write a program that checks if a given word is a Python keyword"
      ],
      "metadata": {
        "id": "GMhsM0dRgfGK"
      }
    },
    {
      "cell_type": "code",
      "source": [
        "# Import the keyword module\n",
        "import keyword\n",
        "\n",
        "# Take input from the user\n",
        "word = input(\"Enter a word: \")\n",
        "\n",
        "# Check if the word is a Python keyword\n",
        "if keyword.iskeyword(word):\n",
        "    print(f\"'{word}' is a Python keyword.\")\n",
        "else:\n",
        "    print(f\"'{word}' is NOT a Python keyword.\")\n"
      ],
      "metadata": {
        "colab": {
          "base_uri": "https://localhost:8080/"
        },
        "id": "bkrGTsQfghN2",
        "outputId": "b7b2e8fa-94c3-4113-d61e-9c5d3281028f"
      },
      "execution_count": null,
      "outputs": [
        {
          "output_type": "stream",
          "name": "stdout",
          "text": [
            "Enter a word: for\n",
            "'for' is a Python keyword.\n"
          ]
        }
      ]
    },
    {
      "cell_type": "markdown",
      "source": [
        "Create a list and tuple in Python, and demonstrate how attempting to change an element works differently for each."
      ],
      "metadata": {
        "id": "TmVM7tLhhQrs"
      }
    },
    {
      "cell_type": "code",
      "source": [
        "# Creating a list and a tuple\n",
        "my_list = [10, 20, 30]\n",
        "my_tuple = (10, 20, 30)\n",
        "\n",
        "print(\"Original list:\", my_list)\n",
        "print(\"Original tuple:\", my_tuple)\n",
        "\n",
        "# Modifying the list\n",
        "my_list[1] = 200\n",
        "print(\"\\nAfter modifying list:\", my_list)\n",
        "\n",
        "# Attempting to modify the tuple\n",
        "try:\n",
        "    my_tuple[1] = 200\n",
        "except TypeError as e:\n",
        "    print(\"\\nError when modifying tuple:\", e)\n"
      ],
      "metadata": {
        "colab": {
          "base_uri": "https://localhost:8080/"
        },
        "id": "Umwjj_I9hy_6",
        "outputId": "df1fc1dc-066c-4550-b104-c554f245e205"
      },
      "execution_count": null,
      "outputs": [
        {
          "output_type": "stream",
          "name": "stdout",
          "text": [
            "Original list: [10, 20, 30]\n",
            "Original tuple: (10, 20, 30)\n",
            "\n",
            "After modifying list: [10, 200, 30]\n",
            "\n",
            "Error when modifying tuple: 'tuple' object does not support item assignment\n"
          ]
        }
      ]
    },
    {
      "cell_type": "code",
      "source": [
        "# Original tuple\n",
        "my_tuple = (10, 20, 30)\n",
        "print(\"Original tuple:\", my_tuple)\n",
        "\n",
        "# You can't do: my_tuple[1] = 200  (will cause error)\n",
        "# Instead, create a new tuple\n",
        "new_tuple = my_tuple[:1] + (200,) + my_tuple[2:]\n",
        "\n",
        "print(\"Modified tuple (indirectly):\", new_tuple)\n"
      ],
      "metadata": {
        "colab": {
          "base_uri": "https://localhost:8080/"
        },
        "id": "B2ShrvNBiz52",
        "outputId": "d73c5278-4ba1-42ad-a2c5-d755b2d7165b"
      },
      "execution_count": null,
      "outputs": [
        {
          "output_type": "stream",
          "name": "stdout",
          "text": [
            "Original tuple: (10, 20, 30)\n",
            "Modified tuple (indirectly): (10, 200, 30)\n"
          ]
        }
      ]
    },
    {
      "cell_type": "markdown",
      "source": [
        "Write a function to demonstrate the behavior of mutable and immutable arguments."
      ],
      "metadata": {
        "id": "VOArZNByjAKI"
      }
    },
    {
      "cell_type": "code",
      "source": [
        "def modify_args(x, y):\n",
        "    # x is immutable (int), y is mutable (list)\n",
        "    x = x + 10          # creates a NEW int object\n",
        "    y.append(100)       # modifies the SAME list object\n",
        "    print(\"Inside function:\")\n",
        "    print(\"x =\", x)\n",
        "    print(\"y =\", y)\n",
        "\n",
        "\n",
        "# Immutable argument (integer)\n",
        "a = 5\n",
        "# Mutable argument (list)\n",
        "b = [1, 2, 3]\n",
        "\n",
        "print(\"Before function call:\")\n",
        "print(\"a =\", a)\n",
        "print(\"b =\", b)\n",
        "\n",
        "modify_args(a, b)\n",
        "\n",
        "print(\"\\nAfter function call:\")\n",
        "print(\"a =\", a)   # unchanged\n",
        "print(\"b =\", b)   # modified\n"
      ],
      "metadata": {
        "colab": {
          "base_uri": "https://localhost:8080/"
        },
        "id": "4PLOXRiLi_aN",
        "outputId": "29321098-5f3c-466b-a934-6da0482ae1d8"
      },
      "execution_count": null,
      "outputs": [
        {
          "output_type": "stream",
          "name": "stdout",
          "text": [
            "Before function call:\n",
            "a = 5\n",
            "b = [1, 2, 3]\n",
            "Inside function:\n",
            "x = 15\n",
            "y = [1, 2, 3, 100]\n",
            "\n",
            "After function call:\n",
            "a = 5\n",
            "b = [1, 2, 3, 100]\n"
          ]
        }
      ]
    },
    {
      "cell_type": "markdown",
      "source": [
        "Immutable objects (like int, float, str, tuple)  any \"modification\" creates a new object, leaving the original unchanged.\n",
        "\n",
        "Mutable objects (like list, dict, set)  modifications affect the same object, so the caller sees the change."
      ],
      "metadata": {
        "id": "hwKrNlNoj4Tf"
      }
    },
    {
      "cell_type": "markdown",
      "source": [
        " Write a program that performs basic arithmetic operations on two user-input numbers."
      ],
      "metadata": {
        "id": "JZlTZ2XBju2W"
      }
    },
    {
      "cell_type": "code",
      "source": [
        "\n",
        "a = float(input(\"Enter first number: \"))\n",
        "b = float(input(\"Enter second number: \"))\n",
        "\n",
        "print(\"\\nResults:\")\n",
        "print(f\"{a} + {b} = {a + b}\")\n",
        "print(f\"{a} - {b} = {a - b}\")\n",
        "print(f\"{a} * {b} = {a * b}\")\n",
        "\n",
        "# Handling division by zero\n",
        "if b != 0:\n",
        "    print(f\"{a} / {b} = {a / b}\")\n",
        "else:\n",
        "    print(\"Division by zero is not allowed!\")\n"
      ],
      "metadata": {
        "colab": {
          "base_uri": "https://localhost:8080/"
        },
        "id": "VP5W_fM1jUZf",
        "outputId": "06a461c2-04ec-4102-b9d5-e600031e0a13"
      },
      "execution_count": null,
      "outputs": [
        {
          "output_type": "stream",
          "name": "stdout",
          "text": [
            "Enter first number: 10\n",
            "Enter second number: 5\n",
            "\n",
            "Results:\n",
            "10.0 + 5.0 = 15.0\n",
            "10.0 - 5.0 = 5.0\n",
            "10.0 * 5.0 = 50.0\n",
            "10.0 / 5.0 = 2.0\n"
          ]
        }
      ]
    },
    {
      "cell_type": "markdown",
      "source": [
        "Write a program to demonstrate the use of logical operators.\n"
      ],
      "metadata": {
        "id": "GKWQ4N8MkiVu"
      }
    },
    {
      "cell_type": "code",
      "source": [
        "\n",
        "\n",
        "# Taking user input\n",
        "a = int(input(\"Enter first number: \"))\n",
        "b = int(input(\"Enter second number: \"))\n",
        "\n",
        "print(\"\\nLogical Operator Demonstration:\\n\")\n",
        "\n",
        "# AND operator\n",
        "print(f\"(a > 0) and (b > 0): {(a > 0) and (b > 0)}\")\n",
        "\n",
        "# OR operator\n",
        "print(f\"(a > 0) or (b > 0): {(a > 0) or (b > 0)}\")\n",
        "\n",
        "# NOT operator\n",
        "print(f\"not (a > 0): {not (a > 0)}\")\n",
        "print(f\"not (b > 0): {not (b > 0)}\")\n"
      ],
      "metadata": {
        "colab": {
          "base_uri": "https://localhost:8080/"
        },
        "id": "3nhKE7-tkuTM",
        "outputId": "1f034a49-8fbc-4273-b3d3-35ea45132ed5"
      },
      "execution_count": null,
      "outputs": [
        {
          "output_type": "stream",
          "name": "stdout",
          "text": [
            "Enter first number: 10\n",
            "Enter second number: -5\n",
            "\n",
            "Logical Operator Demonstration:\n",
            "\n",
            "(a > 0) and (b > 0): False\n",
            "(a > 0) or (b > 0): True\n",
            "not (a > 0): False\n",
            "not (b > 0): True\n"
          ]
        }
      ]
    },
    {
      "cell_type": "markdown",
      "source": [
        "Write a Python program to convert user input from string to integer, float, and boolean types."
      ],
      "metadata": {
        "id": "GO2eOdnwlDx_"
      }
    },
    {
      "cell_type": "code",
      "source": [
        "\n",
        "user_input = input(\"Enter a value: \")\n",
        "\n",
        "print(\"\\nOriginal input (string):\", user_input)\n",
        "\n",
        "\n",
        "try:\n",
        "    int_value = int(user_input)\n",
        "    print(\"As integer:\", int_value)\n",
        "except ValueError:\n",
        "    print(\"Cannot convert to integer.\")\n",
        "\n",
        "try:\n",
        "    float_value = float(user_input)\n",
        "    print(\"As float:\", float_value)\n",
        "except ValueError:\n",
        "    print(\"Cannot convert to float.\")\n",
        "print(\"As boolean:\", bool_value)\n"
      ],
      "metadata": {
        "colab": {
          "base_uri": "https://localhost:8080/"
        },
        "id": "B79yF87DlDUA",
        "outputId": "d46c101c-bd76-49c7-df8a-cd1435426ba2"
      },
      "execution_count": null,
      "outputs": [
        {
          "output_type": "stream",
          "name": "stdout",
          "text": [
            "Enter a value: 2.78\n",
            "\n",
            "Original input (string): 2.78\n",
            "Cannot convert to integer.\n",
            "As float: 2.78\n",
            "As boolean: True\n"
          ]
        }
      ]
    },
    {
      "cell_type": "markdown",
      "source": [
        "Write code to demonstrate type casting with list elements.\n"
      ],
      "metadata": {
        "id": "0VM8BkgQljyL"
      }
    },
    {
      "cell_type": "code",
      "source": [
        "str_list = [\"10\", \"60\", \"30\", \"40\"]\n",
        "\n",
        "print(\"Original list (strings):\", str_list)\n",
        "\n",
        "\n",
        "int_list = [int(x) for x in str_list]\n",
        "print(\"As integers:\", int_list)\n",
        "\n",
        "float_list = [float(x) for x in str_list]\n",
        "print(\"As floats:\", float_list)\n",
        "bool_list = [bool(x) for x in str_list]\n",
        "print(\"As booleans:\", bool_list)\n",
        "\n",
        "mixed_list = [\"1\", \"0\", \"\"]"
      ],
      "metadata": {
        "colab": {
          "base_uri": "https://localhost:8080/"
        },
        "id": "lH8frsTLlqkB",
        "outputId": "beaa3bb9-8304-4bf8-b0db-78ee985a929f"
      },
      "execution_count": null,
      "outputs": [
        {
          "output_type": "stream",
          "name": "stdout",
          "text": [
            "Original list (strings): ['10', '60', '30', '40']\n",
            "As integers: [10, 60, 30, 40]\n",
            "As floats: [10.0, 60.0, 30.0, 40.0]\n",
            "As booleans: [True, True, True, True]\n"
          ]
        }
      ]
    },
    {
      "cell_type": "markdown",
      "source": [
        "11. Write a program that checks if a number is positive, negative, or zero."
      ],
      "metadata": {
        "id": "0u0PjBuVmPRz"
      }
    },
    {
      "cell_type": "code",
      "source": [
        "\n",
        "num = float(input(\"Enter a number: \"))\n",
        "\n",
        "# Check the condition\n",
        "if num > 0:\n",
        "    print(\"The number is Positive.\")\n",
        "elif num < 0:\n",
        "    print(\"The number is Negative.\")\n",
        "else:\n",
        "    print(\"The number is Zero.\")\n"
      ],
      "metadata": {
        "colab": {
          "base_uri": "https://localhost:8080/"
        },
        "id": "ZQJSQOiQmWgg",
        "outputId": "df46c18e-8142-4927-d710-2624f3bba2de"
      },
      "execution_count": null,
      "outputs": [
        {
          "output_type": "stream",
          "name": "stdout",
          "text": [
            "Enter a number: 0\n",
            "The number is Zero.\n"
          ]
        }
      ]
    },
    {
      "cell_type": "markdown",
      "source": [
        "12. Write a for loop to print numbers from 1 to 10"
      ],
      "metadata": {
        "id": "kJqqc-zpmoSv"
      }
    },
    {
      "cell_type": "code",
      "source": [
        "\n",
        "for i in range(1, 11):\n",
        "    print(i)\n"
      ],
      "metadata": {
        "colab": {
          "base_uri": "https://localhost:8080/"
        },
        "id": "GL1UB7Camtnl",
        "outputId": "654e7115-d5c7-4c7d-e506-6a0750010f45"
      },
      "execution_count": null,
      "outputs": [
        {
          "output_type": "stream",
          "name": "stdout",
          "text": [
            "1\n",
            "2\n",
            "3\n",
            "4\n",
            "5\n",
            "6\n",
            "7\n",
            "8\n",
            "9\n",
            "10\n"
          ]
        }
      ]
    },
    {
      "cell_type": "markdown",
      "source": [
        "13. Write a Python program to find the sum of all even numbers between 1 and 50."
      ],
      "metadata": {
        "id": "IXL2159unsWU"
      }
    },
    {
      "cell_type": "code",
      "source": [
        "\n",
        "Total = 0\n",
        "for i in range(2, 15, 20):\n",
        "    total += i\n",
        "\n",
        "print(\"Sum of even numbers from 1 to 50 is:\", total)\n"
      ],
      "metadata": {
        "colab": {
          "base_uri": "https://localhost:8080/"
        },
        "id": "j8o1-mCXoAEz",
        "outputId": "9ce58cdb-d14d-4dfa-a3cc-f4ddd178ddf5"
      },
      "execution_count": null,
      "outputs": [
        {
          "output_type": "stream",
          "name": "stdout",
          "text": [
            "Sum of even numbers from 1 to 50 is: 2\n"
          ]
        }
      ]
    },
    {
      "cell_type": "markdown",
      "source": [
        "14. Write a program to reverse a string using a while loop.\n"
      ],
      "metadata": {
        "id": "ZoFxxEOYojr0"
      }
    },
    {
      "cell_type": "markdown",
      "source": [
        "\n"
      ],
      "metadata": {
        "id": "BW1DrQ59ofSA"
      }
    },
    {
      "cell_type": "code",
      "source": [
        "text = input(\"Enter a string: \")\n",
        "reversed_text = \"\"\n",
        "index = len(text) - 1\n",
        "while index >= 0:\n",
        "    reversed_text += text[index]\n",
        "    index -= 1\n",
        "\n",
        "print(\"Reversed string:\", reversed_text)\n"
      ],
      "metadata": {
        "colab": {
          "base_uri": "https://localhost:8080/"
        },
        "id": "018d5iQgpF8d",
        "outputId": "12a93eb2-3690-4f13-c9a3-2d93439b2bd0"
      },
      "execution_count": null,
      "outputs": [
        {
          "output_type": "stream",
          "name": "stdout",
          "text": [
            "Enter a string: 2\n",
            "Reversed string: 2\n"
          ]
        }
      ]
    },
    {
      "cell_type": "markdown",
      "source": [
        "15. Write a Python program to calculate the factorial of a number provided by the user using a while loop."
      ],
      "metadata": {
        "id": "iyVP-4L1pb10"
      }
    },
    {
      "cell_type": "code",
      "source": [
        "\n",
        "\n",
        "num = int(input(\"Enter a number: \"))\n",
        "factorial = 1\n",
        "i = 1\n",
        "while i <= num:\n",
        "    factorial *= i\n",
        "    i += 1\n",
        "\n",
        "print(f\"Factorial of {num} is: {factorial}\")\n"
      ],
      "metadata": {
        "colab": {
          "base_uri": "https://localhost:8080/"
        },
        "id": "uINY67o1piY5",
        "outputId": "ce2ee37c-34a8-4895-f5aa-91d9fb33fe9d"
      },
      "execution_count": null,
      "outputs": [
        {
          "output_type": "stream",
          "name": "stdout",
          "text": [
            "Enter a number: 6\n",
            "Factorial of 6 is: 720\n"
          ]
        }
      ]
    }
  ]
}