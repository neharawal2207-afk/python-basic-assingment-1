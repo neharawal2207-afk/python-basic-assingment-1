{
  "nbformat": 4,
  "nbformat_minor": 0,
  "metadata": {
    "colab": {
      "provenance": [],
      "authorship_tag": "ABX9TyN/WNF5q3H7r7zOjzATKe02",
      "include_colab_link": true
    },
    "kernelspec": {
      "name": "python3",
      "display_name": "Python 3"
    },
    "language_info": {
      "name": "python"
    }
  },
  "cells": [
    {
      "cell_type": "markdown",
      "metadata": {
        "id": "view-in-github",
        "colab_type": "text"
      },
      "source": [
        "<a href=\"https://colab.research.google.com/github/neharawal2207-afk/python-basic-assingment-1/blob/main/Python_Basics_Questions_Final_Asingment.ipynb\" target=\"_parent\"><img src=\"https://colab.research.google.com/assets/colab-badge.svg\" alt=\"Open In Colab\"/></a>"
      ]
    },
    {
      "cell_type": "code",
      "execution_count": null,
      "metadata": {
        "id": "LOc4l2XUb06a"
      },
      "outputs": [],
      "source": []
    },
    {
      "cell_type": "markdown",
      "source": [
        "Practical Questions"
      ],
      "metadata": {
        "id": "vM9nyl9hb2xO"
      }
    },
    {
      "cell_type": "markdown",
      "source": [
        "Q1) Write a Python program to print \"Hello, World!"
      ],
      "metadata": {
        "id": "gxY6JHyscR2D"
      }
    },
    {
      "cell_type": "code",
      "source": [
        "print(\"Hello, World!\")"
      ],
      "metadata": {
        "colab": {
          "base_uri": "https://localhost:8080/"
        },
        "id": "GKcNcuHbcHUR",
        "outputId": "175eecb6-0580-4854-db46-9b288deb2698"
      },
      "execution_count": null,
      "outputs": [
        {
          "output_type": "stream",
          "name": "stdout",
          "text": [
            "Hello, World!\n"
          ]
        }
      ]
    },
    {
      "cell_type": "markdown",
      "source": [
        "Q2)Write a Python program that displays your name and age?"
      ],
      "metadata": {
        "id": "dl-5WnCpceZu"
      }
    },
    {
      "cell_type": "code",
      "source": [
        "name = \"Ankita\"\n",
        "age = 75\n",
        "print(\"My name is\", name)\n",
        "print(\"I am\", age, \"years old.\")"
      ],
      "metadata": {
        "colab": {
          "base_uri": "https://localhost:8080/"
        },
        "id": "3krf-im7eE_S",
        "outputId": "7e846923-fac3-4a64-cbae-b8562f49f3d5"
      },
      "execution_count": null,
      "outputs": [
        {
          "output_type": "stream",
          "name": "stdout",
          "text": [
            "My name is Ankita\n",
            "I am 75 years old.\n"
          ]
        }
      ]
    },
    {
      "cell_type": "markdown",
      "source": [
        "Q3) Write code to print all the pre-defined keywords in Python using the keyword library"
      ],
      "metadata": {
        "id": "Iq9Tbng9cq92"
      }
    },
    {
      "cell_type": "code",
      "source": [
        "# Import the keyword module\n",
        "import keyword\n",
        "\n",
        "# Get the list of all keywords\n",
        "keywords = keyword.kwlist\n",
        "\n",
        "# Display the keywords\n",
        "print(\"Python keywords are:\")\n",
        "for kw in keywords:\n",
        "    print(kw)\n"
      ],
      "metadata": {
        "colab": {
          "base_uri": "https://localhost:8080/"
        },
        "id": "f6v8qKPcfcru",
        "outputId": "6d2c5d53-403e-41dd-b864-3385750030ec"
      },
      "execution_count": null,
      "outputs": [
        {
          "output_type": "stream",
          "name": "stdout",
          "text": [
            "Python keywords are:\n",
            "False\n",
            "None\n",
            "True\n",
            "and\n",
            "as\n",
            "assert\n",
            "async\n",
            "await\n",
            "break\n",
            "class\n",
            "continue\n",
            "def\n",
            "del\n",
            "elif\n",
            "else\n",
            "except\n",
            "finally\n",
            "for\n",
            "from\n",
            "global\n",
            "if\n",
            "import\n",
            "in\n",
            "is\n",
            "lambda\n",
            "nonlocal\n",
            "not\n",
            "or\n",
            "pass\n",
            "raise\n",
            "return\n",
            "try\n",
            "while\n",
            "with\n",
            "yield\n"
          ]
        }
      ]
    },
    {
      "cell_type": "markdown",
      "source": [
        "Q4) Write a program that checks if a given word is a Python keyword"
      ],
      "metadata": {
        "id": "CIzlLWcLc2oS"
      }
    },
    {
      "cell_type": "code",
      "source": [
        "# Import the keyword module\n",
        "import keyword\n",
        "\n",
        "# Take input from the user\n",
        "word = input(\"Enter a word: \")\n",
        "\n",
        "# Check if the word is a Python keyword\n",
        "if keyword.iskeyword(word):\n",
        "    print(f\"'{word}' is a Python keyword.\")\n",
        "else:\n",
        "    print(f\"'{word}' is NOT a Python keyword.\")\n"
      ],
      "metadata": {
        "colab": {
          "base_uri": "https://localhost:8080/"
        },
        "id": "bkrGTsQfghN2",
        "outputId": "b7b2e8fa-94c3-4113-d61e-9c5d3281028f"
      },
      "execution_count": null,
      "outputs": [
        {
          "output_type": "stream",
          "name": "stdout",
          "text": [
            "Enter a word: for\n",
            "'for' is a Python keyword.\n"
          ]
        }
      ]
    },
    {
      "cell_type": "markdown",
      "source": [
        "Q5) Create a list and tuple in Python, and demonstrate how attempting to change an element works differently for each.?"
      ],
      "metadata": {
        "id": "OBnS6yoddCpY"
      }
    },
    {
      "cell_type": "code",
      "source": [
        "# Creating a list and a tuple\n",
        "my_list = [10, 20, 30]\n",
        "my_tuple = (10, 20, 30)\n",
        "\n",
        "print(\"Original list:\", my_list)\n",
        "print(\"Original tuple:\", my_tuple)\n",
        "\n",
        "# Modifying the list\n",
        "my_list[1] = 200\n",
        "print(\"\\nAfter modifying list:\", my_list)\n",
        "\n",
        "# Attempting to modify the tuple\n",
        "try:\n",
        "    my_tuple[1] = 200\n",
        "except TypeError as e:\n",
        "    print(\"\\nError when modifying tuple:\", e)\n"
      ],
      "metadata": {
        "colab": {
          "base_uri": "https://localhost:8080/"
        },
        "id": "Umwjj_I9hy_6",
        "outputId": "df1fc1dc-066c-4550-b104-c554f245e205"
      },
      "execution_count": null,
      "outputs": [
        {
          "output_type": "stream",
          "name": "stdout",
          "text": [
            "Original list: [10, 20, 30]\n",
            "Original tuple: (10, 20, 30)\n",
            "\n",
            "After modifying list: [10, 200, 30]\n",
            "\n",
            "Error when modifying tuple: 'tuple' object does not support item assignment\n"
          ]
        }
      ]
    },
    {
      "cell_type": "code",
      "source": [
        "# Original tuple\n",
        "my_tuple = (10, 20, 30)\n",
        "print(\"Original tuple:\", my_tuple)\n",
        "\n",
        "# You can't do: my_tuple[1] = 200  (will cause error)\n",
        "# Instead, create a new tuple\n",
        "new_tuple = my_tuple[:1] + (200,) + my_tuple[2:]\n",
        "\n",
        "print(\"Modified tuple (indirectly):\", new_tuple)\n"
      ],
      "metadata": {
        "colab": {
          "base_uri": "https://localhost:8080/"
        },
        "id": "B2ShrvNBiz52",
        "outputId": "d73c5278-4ba1-42ad-a2c5-d755b2d7165b"
      },
      "execution_count": null,
      "outputs": [
        {
          "output_type": "stream",
          "name": "stdout",
          "text": [
            "Original tuple: (10, 20, 30)\n",
            "Modified tuple (indirectly): (10, 200, 30)\n"
          ]
        }
      ]
    },
    {
      "cell_type": "markdown",
      "source": [
        "Q6 Write a function to demonstrate the behavior of mutable and immutable arguments ?\n"
      ],
      "metadata": {
        "id": "IcUu3KrFdKjE"
      }
    },
    {
      "cell_type": "code",
      "source": [
        "def modify_args(x, y):\n",
        "    # x is immutable (int), y is mutable (list)\n",
        "    x = x + 10          # creates a NEW int object\n",
        "    y.append(100)       # modifies the SAME list object\n",
        "    print(\"Inside function:\")\n",
        "    print(\"x =\", x)\n",
        "    print(\"y =\", y)\n",
        "\n",
        "\n",
        "# Immutable argument (integer)\n",
        "a = 5\n",
        "# Mutable argument (list)\n",
        "b = [1, 2, 3]\n",
        "\n",
        "print(\"Before function call:\")\n",
        "print(\"a =\", a)\n",
        "print(\"b =\", b)\n",
        "\n",
        "modify_args(a, b)\n",
        "\n",
        "print(\"\\nAfter function call:\")\n",
        "print(\"a =\", a)   # unchanged\n",
        "print(\"b =\", b)   # modified\n"
      ],
      "metadata": {
        "colab": {
          "base_uri": "https://localhost:8080/"
        },
        "id": "4PLOXRiLi_aN",
        "outputId": "29321098-5f3c-466b-a934-6da0482ae1d8"
      },
      "execution_count": null,
      "outputs": [
        {
          "output_type": "stream",
          "name": "stdout",
          "text": [
            "Before function call:\n",
            "a = 5\n",
            "b = [1, 2, 3]\n",
            "Inside function:\n",
            "x = 15\n",
            "y = [1, 2, 3, 100]\n",
            "\n",
            "After function call:\n",
            "a = 5\n",
            "b = [1, 2, 3, 100]\n"
          ]
        }
      ]
    },
    {
      "cell_type": "markdown",
      "source": [
        "Immutable objects (like int, float, str, tuple)  any \"modification\" creates a new object, leaving the original unchanged.\n",
        "\n",
        "Mutable objects (like list, dict, set)  modifications affect the same object, so the caller sees the change."
      ],
      "metadata": {
        "id": "hwKrNlNoj4Tf"
      }
    },
    {
      "cell_type": "markdown",
      "source": [
        "Q7) Write a program that performs basic arithmetic operations on two user-input numbers."
      ],
      "metadata": {
        "id": "pufqGXsbdgGb"
      }
    },
    {
      "cell_type": "code",
      "source": [
        "\n",
        "a = float(input(\"Enter first number: \"))\n",
        "b = float(input(\"Enter second number: \"))\n",
        "\n",
        "print(\"\\nResults:\")\n",
        "print(f\"{a} + {b} = {a + b}\")\n",
        "print(f\"{a} - {b} = {a - b}\")\n",
        "print(f\"{a} * {b} = {a * b}\")\n",
        "\n",
        "# Handling division by zero\n",
        "if b != 0:\n",
        "    print(f\"{a} / {b} = {a / b}\")\n",
        "else:\n",
        "    print(\"Division by zero is not allowed!\")\n"
      ],
      "metadata": {
        "colab": {
          "base_uri": "https://localhost:8080/"
        },
        "id": "VP5W_fM1jUZf",
        "outputId": "06a461c2-04ec-4102-b9d5-e600031e0a13"
      },
      "execution_count": null,
      "outputs": [
        {
          "output_type": "stream",
          "name": "stdout",
          "text": [
            "Enter first number: 10\n",
            "Enter second number: 5\n",
            "\n",
            "Results:\n",
            "10.0 + 5.0 = 15.0\n",
            "10.0 - 5.0 = 5.0\n",
            "10.0 * 5.0 = 50.0\n",
            "10.0 / 5.0 = 2.0\n"
          ]
        }
      ]
    },
    {
      "cell_type": "markdown",
      "source": [
        "Q8) Write a program to demonstrate the use of logical operators."
      ],
      "metadata": {
        "id": "7Mvg9OQidwRz"
      }
    },
    {
      "cell_type": "code",
      "source": [
        "\n",
        "\n",
        "# Taking user input\n",
        "a = int(input(\"Enter first number: \"))\n",
        "b = int(input(\"Enter second number: \"))\n",
        "\n",
        "print(\"\\nLogical Operator Demonstration:\\n\")\n",
        "\n",
        "# AND operator\n",
        "print(f\"(a > 0) and (b > 0): {(a > 0) and (b > 0)}\")\n",
        "\n",
        "# OR operator\n",
        "print(f\"(a > 0) or (b > 0): {(a > 0) or (b > 0)}\")\n",
        "\n",
        "# NOT operator\n",
        "print(f\"not (a > 0): {not (a > 0)}\")\n",
        "print(f\"not (b > 0): {not (b > 0)}\")\n"
      ],
      "metadata": {
        "colab": {
          "base_uri": "https://localhost:8080/"
        },
        "id": "3nhKE7-tkuTM",
        "outputId": "1f034a49-8fbc-4273-b3d3-35ea45132ed5"
      },
      "execution_count": null,
      "outputs": [
        {
          "output_type": "stream",
          "name": "stdout",
          "text": [
            "Enter first number: 10\n",
            "Enter second number: -5\n",
            "\n",
            "Logical Operator Demonstration:\n",
            "\n",
            "(a > 0) and (b > 0): False\n",
            "(a > 0) or (b > 0): True\n",
            "not (a > 0): False\n",
            "not (b > 0): True\n"
          ]
        }
      ]
    },
    {
      "cell_type": "markdown",
      "source": [
        "Q9) Write a Python program to convert user input from string to integer, float, and boolean types."
      ],
      "metadata": {
        "id": "-qjSU6bLd8Oc"
      }
    },
    {
      "cell_type": "code",
      "source": [
        "\n",
        "user_input = input(\"Enter a value: \")\n",
        "\n",
        "print(\"\\nOriginal input (string):\", user_input)\n",
        "\n",
        "\n",
        "try:\n",
        "    int_value = int(user_input)\n",
        "    print(\"As integer:\", int_value)\n",
        "except ValueError:\n",
        "    print(\"Cannot convert to integer.\")\n",
        "\n",
        "try:\n",
        "    float_value = float(user_input)\n",
        "    print(\"As float:\", float_value)\n",
        "except ValueError:\n",
        "    print(\"Cannot convert to float.\")\n",
        "print(\"As boolean:\", bool_value)\n"
      ],
      "metadata": {
        "colab": {
          "base_uri": "https://localhost:8080/"
        },
        "id": "B79yF87DlDUA",
        "outputId": "d46c101c-bd76-49c7-df8a-cd1435426ba2"
      },
      "execution_count": null,
      "outputs": [
        {
          "output_type": "stream",
          "name": "stdout",
          "text": [
            "Enter a value: 2.78\n",
            "\n",
            "Original input (string): 2.78\n",
            "Cannot convert to integer.\n",
            "As float: 2.78\n",
            "As boolean: True\n"
          ]
        }
      ]
    },
    {
      "cell_type": "markdown",
      "source": [
        "Q10) Write code to demonstrate type casting with list elements."
      ],
      "metadata": {
        "id": "HAO9BQwOeFW8"
      }
    },
    {
      "cell_type": "code",
      "source": [
        "str_list = [\"10\", \"60\", \"30\", \"40\"]\n",
        "\n",
        "print(\"Original list (strings):\", str_list)\n",
        "\n",
        "\n",
        "int_list = [int(x) for x in str_list]\n",
        "print(\"As integers:\", int_list)\n",
        "\n",
        "float_list = [float(x) for x in str_list]\n",
        "print(\"As floats:\", float_list)\n",
        "bool_list = [bool(x) for x in str_list]\n",
        "print(\"As booleans:\", bool_list)\n",
        "\n",
        "mixed_list = [\"1\", \"0\", \"\"]"
      ],
      "metadata": {
        "colab": {
          "base_uri": "https://localhost:8080/"
        },
        "id": "lH8frsTLlqkB",
        "outputId": "beaa3bb9-8304-4bf8-b0db-78ee985a929f"
      },
      "execution_count": null,
      "outputs": [
        {
          "output_type": "stream",
          "name": "stdout",
          "text": [
            "Original list (strings): ['10', '60', '30', '40']\n",
            "As integers: [10, 60, 30, 40]\n",
            "As floats: [10.0, 60.0, 30.0, 40.0]\n",
            "As booleans: [True, True, True, True]\n"
          ]
        }
      ]
    },
    {
      "cell_type": "markdown",
      "source": [
        "11. Write a program that checks if a number is positive, negative, or zero."
      ],
      "metadata": {
        "id": "0u0PjBuVmPRz"
      }
    },
    {
      "cell_type": "code",
      "source": [
        "\n",
        "num = float(input(\"Enter a number: \"))\n",
        "\n",
        "# Check the condition\n",
        "if num > 0:\n",
        "    print(\"The number is Positive.\")\n",
        "elif num < 0:\n",
        "    print(\"The number is Negative.\")\n",
        "else:\n",
        "    print(\"The number is Zero.\")\n"
      ],
      "metadata": {
        "colab": {
          "base_uri": "https://localhost:8080/"
        },
        "id": "ZQJSQOiQmWgg",
        "outputId": "df46c18e-8142-4927-d710-2624f3bba2de"
      },
      "execution_count": null,
      "outputs": [
        {
          "output_type": "stream",
          "name": "stdout",
          "text": [
            "Enter a number: 0\n",
            "The number is Zero.\n"
          ]
        }
      ]
    },
    {
      "cell_type": "markdown",
      "source": [
        "12. Write a for loop to print numbers from 1 to 10"
      ],
      "metadata": {
        "id": "kJqqc-zpmoSv"
      }
    },
    {
      "cell_type": "code",
      "source": [
        "\n",
        "for i in range(1, 11):\n",
        "    print(i)\n"
      ],
      "metadata": {
        "colab": {
          "base_uri": "https://localhost:8080/"
        },
        "id": "GL1UB7Camtnl",
        "outputId": "654e7115-d5c7-4c7d-e506-6a0750010f45"
      },
      "execution_count": null,
      "outputs": [
        {
          "output_type": "stream",
          "name": "stdout",
          "text": [
            "1\n",
            "2\n",
            "3\n",
            "4\n",
            "5\n",
            "6\n",
            "7\n",
            "8\n",
            "9\n",
            "10\n"
          ]
        }
      ]
    },
    {
      "cell_type": "markdown",
      "source": [
        "13. Write a Python program to find the sum of all even numbers between 1 and 50."
      ],
      "metadata": {
        "id": "IXL2159unsWU"
      }
    },
    {
      "cell_type": "code",
      "source": [
        "\n",
        "Total = 0\n",
        "for i in range(2, 15, 20):\n",
        "    total += i\n",
        "\n",
        "print(\"Sum of even numbers from 1 to 50 is:\", total)\n"
      ],
      "metadata": {
        "colab": {
          "base_uri": "https://localhost:8080/"
        },
        "id": "j8o1-mCXoAEz",
        "outputId": "9ce58cdb-d14d-4dfa-a3cc-f4ddd178ddf5"
      },
      "execution_count": null,
      "outputs": [
        {
          "output_type": "stream",
          "name": "stdout",
          "text": [
            "Sum of even numbers from 1 to 50 is: 2\n"
          ]
        }
      ]
    },
    {
      "cell_type": "markdown",
      "source": [
        "14. Write a program to reverse a string using a while loop.\n"
      ],
      "metadata": {
        "id": "ZoFxxEOYojr0"
      }
    },
    {
      "cell_type": "markdown",
      "source": [
        "\n"
      ],
      "metadata": {
        "id": "BW1DrQ59ofSA"
      }
    },
    {
      "cell_type": "code",
      "source": [
        "text = input(\"Enter a string: \")\n",
        "reversed_text = \"\"\n",
        "index = len(text) - 1\n",
        "while index >= 0:\n",
        "    reversed_text += text[index]\n",
        "    index -= 1\n",
        "\n",
        "print(\"Reversed string:\", reversed_text)\n"
      ],
      "metadata": {
        "colab": {
          "base_uri": "https://localhost:8080/"
        },
        "id": "018d5iQgpF8d",
        "outputId": "12a93eb2-3690-4f13-c9a3-2d93439b2bd0"
      },
      "execution_count": null,
      "outputs": [
        {
          "output_type": "stream",
          "name": "stdout",
          "text": [
            "Enter a string: 2\n",
            "Reversed string: 2\n"
          ]
        }
      ]
    },
    {
      "cell_type": "markdown",
      "source": [
        "15. Write a Python program to calculate the factorial of a number provided by the user using a while loop."
      ],
      "metadata": {
        "id": "iyVP-4L1pb10"
      }
    },
    {
      "cell_type": "code",
      "source": [
        "\n",
        "\n",
        "num = int(input(\"Enter a number: \"))\n",
        "factorial = 1\n",
        "i = 1\n",
        "while i <= num:\n",
        "    factorial *= i\n",
        "    i += 1\n",
        "\n",
        "print(f\"Factorial of {num} is: {factorial}\")\n"
      ],
      "metadata": {
        "colab": {
          "base_uri": "https://localhost:8080/"
        },
        "id": "uINY67o1piY5",
        "outputId": "ce2ee37c-34a8-4895-f5aa-91d9fb33fe9d"
      },
      "execution_count": null,
      "outputs": [
        {
          "output_type": "stream",
          "name": "stdout",
          "text": [
            "Enter a number: 6\n",
            "Factorial of 6 is: 720\n"
          ]
        }
      ]
    },
    {
      "cell_type": "markdown",
      "source": [
        "Python Basics Questions"
      ],
      "metadata": {
        "id": "yjKKrd0XXsE7"
      }
    },
    {
      "cell_type": "markdown",
      "source": [
        "1. What is Python, and why is it popular?\n",
        "\n",
        "Python can be used on a server to create web applications. Python is a popular programming language. It was created by Guido van Rossum, and released in 1991. It is used for:\n",
        "web development (server-side), software development, mathematics, system scripting\n",
        "Python works on different platforms (Windows, Mac, Linux, Raspberry Pi, etc). Python has a simple syntax similar to the English language. Python has syntax that allows developers to write programs with fewer lines\n",
        "than some other programming languages. Python runs on an interpreter system, meaning that code can be executed\n",
        "as soon as it is written. This means that prototyping can be very quick. Python can be treated in a procedural way, an object-oriented way or a\n",
        "functional way."
      ],
      "metadata": {
        "id": "93knabJeXuIh"
      }
    },
    {
      "cell_type": "markdown",
      "source": [
        "2. What is an interpreter in Python?\n",
        "\n",
        "A Python interpreter is a program that directly executes Python code. Unlike\n",
        "compiled languages, where the entire code is translated into machine code\n",
        "before execution, the Python interpreter reads, analyzes, and executes Python\n",
        "code line by line at runtime."
      ],
      "metadata": {
        "id": "ihyNkOalYLPy"
      }
    },
    {
      "cell_type": "markdown",
      "source": [
        "3. What are pre-defined keywords in Python?\n",
        "\n",
        "Pre-defined keywords in Python are reserved words that have special\n",
        "meanings and functionalities within the language. These words are an integral\n",
        "part of Python's syntax and cannot be used by programmers as identifiers\n",
        "(such as variable names, function names, or class names)"
      ],
      "metadata": {
        "id": "06pwX-8cYYk6"
      }
    },
    {
      "cell_type": "markdown",
      "source": [],
      "metadata": {
        "id": "QcjiLTyRYZzY"
      }
    },
    {
      "cell_type": "markdown",
      "source": [
        "4. Can keywords be used as variable names?\n",
        "\n",
        "Python Basics Questions\n",
        "No, you generally cannot use keywords (reserved words) as variable names in\n",
        "most programming languages because they have predefined meanings and\n",
        "are used by the compiler for specific functions or structures, such as if, for, or class. Attempting to use a keyword as a variable name will result in\n",
        "a Syntax Error , as the compiler needs to use these words for their intended\n",
        "purposes."
      ],
      "metadata": {
        "id": "sSlA293rYgBs"
      }
    },
    {
      "cell_type": "markdown",
      "source": [
        "5. What is mutability in Python?\n",
        "\n",
        "In Python, mutability refers to whether an object's state or value can be\n",
        "changed after it has been created.\n",
        "** Mutable objects** are those whose content or state can be modified in place after their creation. This means you can alter their internal data or attributes without creating a new object in memory.\n",
        "**Examples of mutable types**: Lists, dictionaries, sets.\n",
        "**Behavior**: When you modify a mutable object, any variables referencing that\n",
        "object will reflect the changes because they all point to the same memory\n",
        "location\n",
        ".** Immutable objects**, in contrast, cannot be changed after they are created.\n",
        "Any operation that  appears to modify an immutable object actually results in the creation of a new object with the updated value. Examples of immutable types: Integers, floats, strings, tuples. Behavior: If you \"modify\" an immutable object, you are essentially creating a new object\n",
        "and reassigning the variable to point to this new object. The original object\n",
        "remains unchanged in memory (until garbage collected, if no longer referenced)."
      ],
      "metadata": {
        "id": "v0GyPC86Yq1E"
      }
    },
    {
      "cell_type": "markdown",
      "source": [],
      "metadata": {
        "id": "r3-cMbYCZ1qs"
      }
    },
    {
      "cell_type": "markdown",
      "source": [
        "6. Why are lists mutable, but tuples are immutable\n",
        "Python Basics Questions\n",
        "Lists are mutable because their class implementation includes operations\n",
        "(like append() and __setitem__) that allow for adding, removing, and changing\n",
        "elements after creation. Conversely, tuples are immutable because their\n",
        "implementation does not provide such mutator methods, meaning they are\n",
        "fixed and cannot be changed once defined. This fundamental difference in\n",
        "their designed interfaces determines their mutability."
      ],
      "metadata": {
        "id": "w7s0Ax41aHdQ"
      }
    },
    {
      "cell_type": "markdown",
      "source": [
        "7. What is the difference between “==” and “is” operators in Python ?\n",
        "\n",
        "In Python, == is the equality operator, which checks if two objects have the\n",
        "same value, while is is the identity operator, which checks if two variables\n",
        "point to the exact same object in memory. For example, list1 = [1, 2, 3] and list2 = [1, 2, 3] are equal (list1 == list2 is True) but not identical (list1 is\n",
        "list2 is False), whereas list3 = list1 and list1 are identical (list1 is list3 is True). == (Equality Operator)\n",
        "Purpose: Compares the values or contents of two objects. How it works: Python's == operator calls the __eq__() method of the left\n",
        "object to determine if the right object has equivalent data. Example:\n",
        "list_a = [1, 2, 3]\n",
        "list_b = [1, 2, 3]\n",
        "print(list_a == list_b) # Output: True (values are the same)\n",
        "is (Identity Operator)\n",
        "Purpose: Checks if two variables refer to the exact same object in memory. How it works: The is operator evaluates to True if the variables on both sides\n",
        "of it point to the same memory address. Example:\n",
        "list_a = [1, 2, 3]\n",
        "list_c = list_a # list_c now points to the same object as list_a\n",
        "print(list_a is list_c) # Output: True (both variables refer to the same object)\n",
        "Python Basics Questions\n",
        "list_b = [1, 2, 3] # list_b is a new object with the same content\n",
        "print(list_a is list_b) # Output: False (different objects in memory)\n",
        "When to Use Which\n",
        "Use == when you want to know if two objects hold the same data, regardless of\n",
        "whether they are the same object in memory. Use is\n",
        "when you need to check if two variables are aliases for the same underlying\n",
        "object. This is especially common when comparing with None, as variable is\n",
        "None is the idiomatic way to check if variable is not set."
      ],
      "metadata": {
        "id": "RrXwtwYVaO_2"
      }
    },
    {
      "cell_type": "markdown",
      "source": [],
      "metadata": {
        "id": "YieJeuSBaYpA"
      }
    },
    {
      "cell_type": "markdown",
      "source": [
        "8. Python What are logical operators in Python ?\n",
        "\n",
        "Logical operators in Python are used to combine conditional statements and\n",
        "perform logical operations on Boolean values (True or False). There are three main logical operators in Python:\n",
        "and operator:  Returns True if both operands are True.  Returns False if at least one operand is False.  Example: True and True evaluates to True, while True and False evaluates\n",
        "to False. or operator:  Returns True if at least one of the operands is True.  Returns False only if both operands are False.  Example: True or False evaluates to True, while False or False evaluates\n",
        "to False.\n",
        "Python Basics Questions\n",
        "Not operator:  This is a unary operator, meaning it operates on a single operand.  Returns the opposite Boolean value of the operand.  Example: not True evaluates to False, and not False evaluates to True. These operators are fundamental for controlling program flow based on\n",
        "multiple conditions. Example\n",
        "is_raining = True\n",
        "# The not operator inverts the value is_not_raining = not is_raining\n",
        "print(is_not_raining)# Output: False"
      ],
      "metadata": {
        "id": "gQTFi6CAa4Ue"
      }
    },
    {
      "cell_type": "markdown",
      "source": [
        "9. What is type casting in Python ?\n",
        "\n",
        "Type casting, also known as type conversion, is the process of converting one\n",
        "data type into another. Ex: you want to change the data type of a variable\n",
        "from an integer 2 to a float 2.0. This is a case where you'd use type casting"
      ],
      "metadata": {
        "id": "9a-E0eWebHLv"
      }
    },
    {
      "cell_type": "markdown",
      "source": [
        "10. What is the difference between implicit and explicit type casting ?\n",
        "\n",
        "Implicit casting allows Python to automatically convert data types when\n",
        "performing operations, while explicit casting gives you control over how data\n",
        "types are converted. Knowing when to use each method can help you write\n",
        "more robust and readable Python code"
      ],
      "metadata": {
        "id": "LmqbQa4XbPes"
      }
    },
    {
      "cell_type": "markdown",
      "source": [
        "11. What is the purpose of conditional statements in Python ?\n",
        "\n",
        "Similar to for-loops in Python, conditionals provide a mechanism to control\n",
        "the flow of execution of a program in many programming languages. In\n",
        "Python, the if -statement will run a section of code if and only if the\n",
        "conditional provided is true"
      ],
      "metadata": {
        "id": "dOcz_fe7bc6q"
      }
    },
    {
      "cell_type": "markdown",
      "source": [
        "12. How does the elif statement work?\n",
        "\n",
        "The elif statement in Python, short for \"else if,\" is a conditional statement used\n",
        "to check multiple conditions sequentially. It functions as part of an if-elif-else chain, allowing for more complex decision- making than a simple if-else structure. 'Elif' stands for 'else if' and is used in Python programming to test multiple\n",
        "conditions. It is written following an if statement in Python to check an\n",
        "alternative condition if the first condition is false. The code block under the elif\n",
        "statement will be executed only if its condition is true. Example:\n",
        "score = 75\n",
        "if score >= 90:\n",
        "print(\"Grade A\")\n",
        "elif score >= 80:\n",
        "print(\"Grade B\")\n",
        "elif score >= 70:\n",
        "print(\"Grade C\")\n",
        "else:\n",
        "print(\"Grade F\")\n",
        "Output :\n",
        "score >= 90 is False. score >= 80 is False. score >= 70 is True. Therefore, \"Grade C\" is printed, and the else block is\n",
        "skipped."
      ],
      "metadata": {
        "id": "NDKqD6Y-birZ"
      }
    },
    {
      "cell_type": "markdown",
      "source": [
        "13. What is the difference between for and while loops?\n",
        "\n",
        "The main difference is that a for loop is used for a known, fixed number of\n",
        "iterations, while a while loop is used when the number of iterations is\n",
        "unknown and depends on a dynamic condition. for loops have a concise\n",
        "structure for initialization, condition, and increment within the loop\n",
        "Python Basics Questions\n",
        "declaration, making them ideal for iterating over collections or a\n",
        "predetermined range, whereas while loops check a condition before each\n",
        "iteration and require the loop body to manage any necessary updates to keep\n",
        "the condition from becoming permanently true, which could lead to an infinite\n",
        "loop"
      ],
      "metadata": {
        "id": "zFvVRwWGbtcj"
      }
    },
    {
      "cell_type": "markdown",
      "source": [
        "14. Describe a scenario where a while loop is more suitable than a for loop ?\n",
        "\n",
        "A while loop is more suitable when the exact number of iterations is\n",
        "unknown and depends on a condition that might change unpredictably\n",
        "such as waiting for user input or an external event. For example\n",
        "prompting a user to enter a password until it meets specific criteria is better\n",
        "suited for a while loop because you don't know how many attempts the user\n",
        "will need. In contrast, a for loop is ideal when you know the precise number\n",
        "of times you want to repeat a task, like iterating through a list of 10 items."
      ],
      "metadata": {
        "id": "VYvm5cfPb0h_"
      }
    },
    {
      "cell_type": "markdown",
      "source": [],
      "metadata": {
        "id": "5JQ4R6eXcISG"
      }
    }
  ]
}