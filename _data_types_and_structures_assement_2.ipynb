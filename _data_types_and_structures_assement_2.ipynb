{
  "nbformat": 4,
  "nbformat_minor": 0,
  "metadata": {
    "colab": {
      "provenance": [],
      "authorship_tag": "ABX9TyPc9tskqBMVsu84fNKp8Mlz",
      "include_colab_link": true
    },
    "kernelspec": {
      "name": "python3",
      "display_name": "Python 3"
    },
    "language_info": {
      "name": "python"
    }
  },
  "cells": [
    {
      "cell_type": "markdown",
      "metadata": {
        "id": "view-in-github",
        "colab_type": "text"
      },
      "source": [
        "<a href=\"https://colab.research.google.com/github/neharawal2207-afk/python-basic-assingment-1/blob/main/_data_types_and_structures_assement_2.ipynb\" target=\"_parent\"><img src=\"https://colab.research.google.com/assets/colab-badge.svg\" alt=\"Open In Colab\"/></a>"
      ]
    },
    {
      "cell_type": "markdown",
      "source": [
        "Data Types and Structures"
      ],
      "metadata": {
        "id": "ajVgznqyCilb"
      }
    },
    {
      "cell_type": "markdown",
      "source": [
        "Assignment Questions and Answers"
      ],
      "metadata": {
        "id": "VEKMmhfeNobT"
      }
    },
    {
      "cell_type": "markdown",
      "source": [
        "Q1)   What are data structures, and why are they important3 ?"
      ],
      "metadata": {
        "id": "MlkN7VYVNvHK"
      }
    },
    {
      "cell_type": "markdown",
      "source": [
        "\n",
        "**What are Data Structures**\n",
        "A data structure is a way of organizing, storing, and managing data so it can be used efficiently.\n",
        "\n",
        "Think of it like a container or blueprint for data.\n",
        "\n",
        "Examples include arrays, lists, stacks, queues, trees, graphs, hash tables, etc.\n",
        "\n",
        "Each data structure is designed for specific kinds of operations (like searching, inserting, deleting, or traversing data).\n",
        "\n",
        "**Why are Data Structures Important**\n",
        "\n",
        "***Efficiency*** : Choosing the right data structure makes your program faster and uses less memory.\n",
        "\n",
        "Example: Searching a word in a hash table is faster than in a simple list.\n",
        "\n",
        "**Organization** : They help organize data logically, making it easier to access and manipulate.\n",
        "\n",
        "**Reusability** : Once you understand a data structure, you can use it to solve many problems in different applications.\n",
        "\n",
        "**Problem Solving :** Many real-world problems (like social networks, maps, databases) can only be solved effectively using the right data structures.\n",
        "\n",
        "**Foundation for Algorithms **: Most algorithms (like sorting, searching, shortest path) rely heavily on efficient data structures."
      ],
      "metadata": {
        "id": "BMLQ-TEGOBce"
      }
    },
    {
      "cell_type": "markdown",
      "source": [
        "Q2) Explain the difference between mutable and immutable data types with examples?"
      ],
      "metadata": {
        "id": "-Uz9Er7BPrsf"
      }
    },
    {
      "cell_type": "markdown",
      "source": [
        "1. **Mutable Data Types**\n",
        "\n",
        "**Definition:** Mutable objects can be changed after they are created.\n",
        "\n",
        "This means we can add, update, or remove elements without creating a new object.\n",
        "\n",
        "In Python, most collections are mutable.\n",
        "Examples of Mutable Types:\n",
        "\n",
        "**List**\n",
        "\n",
        "numbers = [1, 2, 3]\n",
        "print(id(numbers))   # memory location before change\n",
        "\n",
        "numbers.append(4)    # modifying the list\n",
        "print(numbers)       # [1, 2, 3, 4]\n",
        "print(id(numbers))   # memory location is the same\n",
        "\n",
        "\n",
        "**Dictionary**\n",
        "\n",
        "student = {\"name\": \"Neha\", \"age\": 20}\n",
        "student[\"age\"] = 21   # modifying value\n",
        "print(student)        # {'name': 'Neha', 'age': 21}\n",
        "\n",
        "\n",
        "**Set**\n",
        "\n",
        "fruits = {\"apple\", \"banana\"}\n",
        "fruits.add(\"mango\")\n",
        "print(fruits)   # {'apple', 'banana', 'mango'}\n",
        "\n",
        "2. **Immutable Data Types**\n",
        "\n",
        "Definition: Immutable objects cannot be changed after creation.\n",
        "\n",
        "If you try to modify them, Python creates a new object in memory instead.\n",
        "\n",
        "These are usually basic types like numbers, strings, and tuples.\n",
        "\n",
        "**Examples of Immutable Types:**\n",
        "\n",
        "**String**\n",
        "\n",
        "name = \"Neha\"\n",
        "print(id(name))     # memory location before change\n",
        "\n",
        "name = name + \" Rawal\"\n",
        "print(name)         # \"Neha Rawal\"\n",
        "print(id(name))     # different memory location (new object created)\n",
        "\n",
        "\n",
        "**Tuple**\n",
        "\n",
        "colors = (\"red\", \"green\", \"blue\")\n",
        "# colors[0] = \"yellow\"  #  Error: tuples cannot be modified\n",
        "\n",
        "\n",
        "**Integer**\n",
        "\n",
        "x = 10\n",
        "print(id(x))    # memory before change\n",
        "\n",
        "x = x + 1\n",
        "print(x)        # 11\n",
        "print(id(x))    # different memory location (new object)\n",
        "\n",
        "Key Difference\n",
        "\n",
        "\n",
        "*   List item\n",
        "*   List item\n",
        "\n",
        "Feature       :  Mutable (Changeable)       mmutable (Unchangeable)\n",
        "Examples      :  List, Dict, Set            String, Tuple, Int, Float\n",
        "Memory        :  Same object updated         New object created\n",
        "Performance   :  Faster updates              Safer (less error-prone)\n",
        "\n",
        "in short: Mutable = can be changed in place (like lists, dicts),\n",
        "Immutable = cannot be changed in place (like strings, tuples, ints)."
      ],
      "metadata": {
        "id": "43nHdBx1Qvc-"
      }
    },
    {
      "cell_type": "markdown",
      "source": [
        "Q3) What are the main differences between lists and tuples in Python ?\n"
      ],
      "metadata": {
        "id": "FZbhwE-WYiQg"
      }
    },
    {
      "cell_type": "markdown",
      "source": [
        "**List**\n",
        "\n",
        "**Feature\tList**\n",
        "\n",
        "**Mutability** : Mutable (can be changed after creation: add, remove, or modify elements)\n",
        "\n",
        "\n",
        "\n",
        "**Syntax**\n",
        "Created using [ ]\n",
        "my_list = [1, 2, 3]\n",
        "\n",
        "**Performance**\n",
        "Slower (because they are mutable and more memory is allocated for changes)\n",
        "\n",
        "**Methods available**\n",
        "Many built-in methods: .append(), .remove(), .pop(), .extend(), etc.\n",
        "\n",
        "**Use case**\n",
        "Best for collections that may need modification\n",
        "\n",
        "**Hashability**\n",
        "Not hashable (cannot be used as dictionary keys or set elements)\n",
        "\n",
        "\n",
        "**Feature\tList\tTuple**\n",
        "\n",
        "**Mutability**\t: Immutable (cannot be changed after creation)\n",
        "**Syntax :** Created using ( )\n",
        "my_tuple = (1, 2, 3)\n",
        "**Performance\t** :\tFaster (because they are immutable and memory-efficient)\n",
        "\n",
        "**Methods available**\t:\tVery few methods: .count(), .index()\n",
        "\n",
        "**Use case**: Best for fixed collections (constants, dictionary keys, etc.)\n",
        "\n",
        "**Hashability**\t:Hashable (only if all elements are immutable)\n",
        "Memory usage\tUses more memory\tUses less memory\n",
        "\n",
        "In short:\n",
        "\n",
        "Use lists when you need a dynamic, changeable sequence.\n",
        "\n",
        "Use tuples when you need a fixed, read-only sequence (often for data safety & efficiency)."
      ],
      "metadata": {
        "id": "UrksiEM0ZE95"
      }
    },
    {
      "cell_type": "markdown",
      "source": [
        "Q4) Describe how dictionaries store data ?"
      ],
      "metadata": {
        "id": "ATqRIB1tcc_6"
      }
    },
    {
      "cell_type": "markdown",
      "source": [
        "A dictionary in Python stores data in the form of key value pairs. Under the hood, Python dictionaries use a data structure called a hash table.\n",
        "\n",
        "Internal Working\n",
        "\n",
        "**Hashing the Key**\n",
        "\n",
        "When you insert a key value pair, Python computes a hash value for the key using a hash function (__hash__() method of the key object).\n",
        "This hash value is an integer that helps decide where the key value pair should be stored in memory.\n",
        "\n",
        "**Indexing in Hash Table**\n",
        "\n",
        "The hash value is mapped to an index (bucket) in the hash table using modulus arithmetic.\n",
        "\n",
        "Example: index = hash(key) % table_size.\n",
        "\n",
        "**Storing the Value**\n",
        "\n",
        "The key and its value are stored together at that index.\n",
        "\n",
        "Dictionary doesn’t just store values; it stores both the key and value so that even if two keys have the same hash (collision), Python can distinguish them.\n",
        "\n",
        "**Handling Collisions**\n",
        "\n",
        "A collision happens when two different keys get the same index.\n",
        "\n",
        "Python handles this using open addressing (probing for the next available slot).\n",
        "\n",
        "**Retrieving Values**\n",
        "\n",
        "When you look up a key (my_dict[key]), Python: Hashes the key.\n",
        "\n",
        "Finds the correct index.Compares the actual key stored there to ensure it matches.Returns the associated value.\n",
        "\n"
      ],
      "metadata": {
        "id": "Th8JLYingFHg"
      }
    },
    {
      "cell_type": "markdown",
      "source": [
        "Q5) Why might you use a set instead of a list in Python ?"
      ],
      "metadata": {
        "id": "YqKyHMCNhDDu"
      }
    },
    {
      "cell_type": "markdown",
      "source": [
        "Key Differences  When Sets Are Better\n",
        "\n",
        "Uniqueness of elements\n",
        "\n",
        "A set automatically removes duplicates.\n",
        "\n",
        "my_list = [1, 2, 2, 3, 3, 3]\n",
        "my_set = set(my_list)\n",
        "print(my_set)  # {1, 2, 3}\n",
        "\n",
        "\n",
        "Faster membership testing (in)\n",
        "\n",
        "Checking if an element exists in a set is much faster than in a list, especially for large collections.\n",
        "\n",
        "nums = list(range(1_000_000))\n",
        "nums_set = set(nums)\n",
        "\n",
        "print(999999 in nums)     # Slow (O(n))\n",
        "print(999999 in nums_set) # Fast (O(1))\n",
        "\n",
        "\n",
        "Set operations (mathematical use cases)\n",
        "\n",
        "Sets have built-in operations like union, intersection, difference, symmetric difference, which lists don’t have directly.\n",
        "\n",
        "a = {1, 2, 3}\n",
        "b = {3, 4, 5}\n",
        "print(a | b)   # Union → {1, 2, 3, 4, 5}\n",
        "print(a & b)   # Intersection → {3}\n",
        "print(a - b)   # Difference → {1, 2}\n",
        "\n",
        " Trade-offs\n",
        "\n",
        "Unordered → Sets dont maintain element order (lists do).\n",
        "\n",
        "Unindexed → You cant access elements by position (my_set[0] is invalid).\n",
        "\n",
        "Only hashable (immutable) elements allowed → e.g., lists cant go inside sets, but tuples can.\n",
        "\n",
        " In short:\n",
        "Use a set when you care about uniqueness and fast lookups.\n",
        "Use a list when you care about order or duplicates.\n",
        "\n",
        "\n",
        "\n"
      ],
      "metadata": {
        "id": "jFFd7sQGipOY"
      }
    },
    {
      "cell_type": "markdown",
      "source": [
        "Q6) What is a string in Python, and how is it different from a list?"
      ],
      "metadata": {
        "id": "ezg5PwEAjSCt"
      }
    },
    {
      "cell_type": "markdown",
      "source": [
        "**What is a String in Python**\n",
        "\n",
        "A string in Python is a sequence of characters enclosed in single ('), double (\"), or triple quotes (''' / \"\"\").\n",
        "\n",
        "Example:\n",
        "name = \"Python\"\n",
        "greeting = 'Hello'\n",
        "multiline = \"\"\"This is\n",
        "a string that spans\n",
        "multiple lines.\"\"\"\n",
        "\n",
        "Strings are immutable, meaning once created, their contents cannot be changed.\n",
        "\n",
        "\n",
        "**How is a String different from a List**\n",
        "\n",
        "Although both strings and lists are sequences (you can index, slice, and iterate over them), they have some key differences:\n",
        "\n",
        "\n",
        "**Data type**\n",
        "String\n",
        "Sequence of characters\n",
        "List\n",
        "Sequence of any data type (numbers, strings, objects, etc.)\n",
        "\n",
        "**Mutability**\n",
        "\n",
        "String :Immutable (cannot be changed directly)\n",
        "\n",
        "List:Mutable (elements can be added, removed, or modified)\n",
        "\n",
        "\n",
        "**Element type**\n",
        "\n",
        "String : Always characters\n",
        "List: Can contain different data types\n",
        "\n",
        "**Operations**\n",
        "String : Support string-specific methods like .upper(), .lower(), .split(), etc.\n",
        "List:  Support list-specific methods like .append(), .extend(), .remove(), etc.\n",
        "\n",
        "\n",
        "**Example**\n",
        "String : \"hello\"\n",
        "List:  [\"h\", \"e\", \"l\", \"l\", \"o\"] or [1, \"two\", 3.0]\n",
        "\n",
        "\n"
      ],
      "metadata": {
        "id": "Kz0YEq5VjbEl"
      }
    },
    {
      "cell_type": "markdown",
      "source": [
        "Q7) How do tuples ensure data integrity in Python?"
      ],
      "metadata": {
        "id": "0rlm9Z2Cptoq"
      }
    },
    {
      "cell_type": "markdown",
      "source": [
        "Tuples ensure data integrity in Python mainly through their immutability. Let me break it down:\n",
        "\n",
        "1. **Immutability**\n",
        "\n",
        "Once a tuple is created, its elements cannot be modified (no item assignment, no deletion).\n",
        "\n",
        "This prevents accidental or unauthorized changes to the data.\n",
        "\n",
        "numbers = (1, 2, 3)\n",
        "numbers[0] = 10   #  Error: 'tuple' object does not support item assignment\n",
        "\n",
        "2. **Predictable Data**\n",
        "\n",
        "Because tuples can’t be altered, they provide a stable structure to hold fixed sets of values.\n",
        "\n",
        "This is important when data must remain constant throughout the program (e.g., configuration settings, database records).\n",
        "\n",
        "3. **Safe as Dictionary Keys / Set Elements**\n",
        "\n",
        "Tuples are hashable if they contain only immutable elements, so they can be used as keys in dictionaries or as elements in sets.\n",
        "\n",
        "Lists can’t do this because they’re mutable, and their content could change after hashing, breaking data consistency.\n",
        "\n",
        "coords = {(10, 20): \"point A\"}   #  valid\n",
        "# coords = {[10, 20]: \"point B\"} #  Error: lists are unhashable\n",
        "\n",
        "4. **Clear Intention**\n",
        "\n",
        "Using tuples signals that the collection of data is meant to be constant and protected.\n",
        "\n",
        "This helps in code readability and reduces bugs, since other developers know the data shouldn’t change.\n",
        "\n",
        " Tuples ensure data integrity by being immutable, hashable, and stable, which prevents unintended modifications and preserves consistency across the program.\n",
        "\n",
        "\n",
        "\n"
      ],
      "metadata": {
        "id": "hc8Rxa0OqYOL"
      }
    },
    {
      "cell_type": "markdown",
      "source": [
        "Q5 What is a hash table, and how does it relate to dictionaries in Python ?"
      ],
      "metadata": {
        "id": "N0aGUfHkrCmi"
      }
    },
    {
      "cell_type": "markdown",
      "source": [
        "**What is a Hash Table**\n",
        "\n",
        "A hash table is a data structure that stores key–value pairs and allows very fast lookup, insertion, and deletion (on average in constant time, O(1)).\n",
        "\n",
        "It uses a hash function to convert a key into a numerical index.\n",
        "\n",
        "This index tells the program where in memory the corresponding value should be stored or retrieved.\n",
        "\n",
        "Example idea:\n",
        "\n",
        "You have a locker room with 100 lockers.\n",
        "\n",
        "Instead of checking each locker one by one, a formula (hash function) tells you exactly which locker has your item.\n",
        "\n",
        "Relation to Python Dictionaries\n",
        "\n",
        "In Python, a dictionary (dict) is implemented using a hash table.\n",
        "\n",
        "Keys → go through a hash function → converted into an index.\n",
        "\n",
        "Values → stored at that index in memory.\n",
        "\n",
        "Example:\n",
        "\n",
        "my_dict = {\"name\": \"Neha\", \"age\": 22, \"city\": \"Delhi\"}\n",
        "\n",
        "print(my_dict[\"name\"])  # Lookup by key\n",
        "\n",
        "\n",
        "\"name\" is hashed internally to find where \"Neha\" is stored.\n",
        "\n",
        "This lookup happens in (almost) constant time O(1).\n",
        "\n",
        "\n",
        "Keys must be hashable (immutable): strings, numbers, and tuples (if containing only immutables) can be keys; lists or other dicts cannot.\n",
        "\n",
        "valid = {(\"x\", \"y\"): 10}  #  tuple key\n",
        "invalid = {[1, 2]: 10}    # list is unhashable\n",
        "\n",
        "\n",
        "Fast operations: Adding, searching, and deleting by key are very efficient (average O(1)).\n",
        "\n",
        "Collisions: If two keys hash to the same index, Python handles it internally (using techniques like open addressing) to still keep access fast.\n",
        "\n",
        "A hash table is the underlying data structure that powers dictionaries in Python, making them super fast for storing and retrieving data using keys."
      ],
      "metadata": {
        "id": "V4_uuBgurNdb"
      }
    },
    {
      "cell_type": "markdown",
      "source": [
        "Q9 Can lists contain different data types in Python ?"
      ],
      "metadata": {
        "id": "L9i2Xs1qr9Wd"
      }
    },
    {
      "cell_type": "markdown",
      "source": [
        "Yes , lists in Python can contain different data types.\n",
        "\n",
        "Python lists are heterogeneous, meaning they can store elements of different types within the same list.\n",
        "\n",
        "Example:\n",
        "my_list = [10, \"hello\", 3.14, True, [1, 2, 3], {\"key\": \"value\"}]\n",
        "\n",
        "print(my_list)\n",
        "# Output: [10, 'hello', 3.14, True, [1, 2, 3], {'key': 'value'}]\n",
        "\n",
        "\n",
        "Here:\n",
        "\n",
        "10 → integer\n",
        "\n",
        "\"hello\" → string\n",
        "\n",
        "3.14 → float\n",
        "\n",
        "True → boolean\n",
        "\n",
        "[1, 2, 3] → list\n",
        "\n",
        "{\"key\": \"value\"} → dictionary\n",
        "\n",
        "All coexist in the same list.\n",
        "\n",
        "Key Point: While Python allows mixed types in lists, it’s usually best practice to keep lists homogeneous (same type elements) when possible, because it makes the code easier to read and maintain."
      ],
      "metadata": {
        "id": "D1Pjn6QXsKB7"
      }
    },
    {
      "cell_type": "markdown",
      "source": [
        "Q9) Can lists contain different data types in Python ?"
      ],
      "metadata": {
        "id": "RT4XKtKascg3"
      }
    },
    {
      "cell_type": "markdown",
      "source": [
        "Yes , lists in Python can contain different data types.\n",
        "\n",
        "Python lists are heterogeneous collections, which means you can store integers, strings, floats, booleans, objects, or even other lists all in one list.\n",
        "\n",
        "Example:\n",
        "mixed_list = [42, \"hello\", 3.14, True, [1, 2], {\"x\": 10}]\n",
        "\n",
        "print(mixed_list)\n",
        "\n",
        "\n",
        "# Output: [42, 'hello', 3.14, True, [1, 2], {'x': 10}]\n",
        "\n",
        "\n",
        "Here the list has:\n",
        "\n",
        "42 → integer\n",
        "\n",
        "\"hello\" → string\n",
        "\n",
        "3.14 → float\n",
        "\n",
        "True → boolean\n",
        "\n",
        "[1, 2] → another list\n",
        "\n",
        "{'x': 10} → dictionary\n",
        "\n",
        "Yes, Python lists can store different types of elements in the same list."
      ],
      "metadata": {
        "id": "ldiknm-TtJhf"
      }
    },
    {
      "cell_type": "markdown",
      "source": [
        "Q10) Explain why strings are immutable in Python ?"
      ],
      "metadata": {
        "id": "CSTbN4U3tpP6"
      }
    },
    {
      "cell_type": "markdown",
      "source": [
        "Strings in Python are immutable, which means once a string object is created, its contents (the sequence of characters) cannot be changed.\n",
        "If you try to modify a string, Python actually creates a new string object instead of altering the original one.\n",
        "\n",
        "Heres why Python enforces immutability for strings:\n",
        "\n",
        "1. Memory Efficiency (String Interning)\n",
        "\n",
        "Python often reuses string objects (called interning) to save memory.\n",
        "Example: all occurrences of \"hello\" in your code may point to the same memory location.\n",
        "\n",
        "If strings were mutable, changing one \"hello\" would unintentionally change all other references to it, causing bugs.\n",
        "\n",
        "2. Hashability (Dictionary & Set Keys)\n",
        "\n",
        "Strings are commonly used as keys in dictionaries and elements in sets.\n",
        "\n",
        "Dictionary keys must be hashable, and immutability ensures that the string’s hash value does not change over its lifetime.\n",
        "If strings were mutable, their hash could change, breaking dictionary lookups.\n",
        "\n",
        "3. Data Integrity\n",
        "\n",
        "Since strings often represent important data (filenames, URLs, messages, etc.), immutability ensures they cannot be accidentally altered.\n",
        "\n",
        "This makes programs safer and more predictable.\n",
        "\n",
        "4. Thread-Safety\n",
        "\n",
        "In multithreaded environments, immutable objects are safer since multiple threads can share them without worrying about one thread modifying the value while another is reading it.\n",
        "\n",
        "Example Demonstration:\n",
        "s = \"hello\"\n",
        "print(id(s))   # memory address of original string\n",
        "\n",
        "s = s + \" world\"   # creates a new string, doesn't modify the old one\n",
        "print(id(s))   # different memory address\n",
        "\n",
        "\n",
        " The id() changes, proving that a new string was created instead of modifying the old one.\n",
        "\n",
        "\n",
        "In short: Strings are immutable in Python to ensure memory efficiency, enable hashing for dict/set usage, maintain data integrity, and provide thread-safety."
      ],
      "metadata": {
        "id": "Ozrf3UMfuAmJ"
      }
    },
    {
      "cell_type": "markdown",
      "source": [
        "Q11) What advantages do dictionaries offer over lists for certain tasks ?"
      ],
      "metadata": {
        "id": "RAIPffSYuVNt"
      }
    },
    {
      "cell_type": "markdown",
      "source": [
        "Both lists and dictionaries are useful data structures in Python, but dictionaries offer specific advantages over lists for certain tasks, especially when working with key–value associations.\n",
        "\n",
        " Advantages of Dictionaries over Lists:\n",
        "\n",
        "1. **Fast Lookups (O(1) average time)**\n",
        "\n",
        "Lists require linear search (O(n)) to find an element.\n",
        "\n",
        "Dictionaries use hashing, so looking up a value by key is much faster (O(1) on average).\n",
        "\n",
        " **Example:**\n",
        "\n",
        "# List search\n",
        "numbers = [10, 20, 30, 40]\n",
        "print(30 in numbers)   # O(n) search\n",
        "\n",
        "# Dictionary lookup\n",
        "students = {\"Alice\": 90, \"Bob\": 85, \"Charlie\": 92}\n",
        "print(students[\"Bob\"]) # O(1) lookup\n",
        "\n",
        "2. **Key Value Mapping**\n",
        "\n",
        "Lists store items by position (index).\n",
        "\n",
        "Dictionaries allow you to use meaningful keys (like names, IDs, categories).\n",
        "This makes data easier to understand and manage.\n",
        "\n",
        " **Example:**\n",
        "\n",
        "# With a list\n",
        "student = [\"Alice\", 90]\n",
        "print(student[1])  # hard to know what '1' means\n",
        "\n",
        "# With a dictionary\n",
        "student = {\"name\": \"Alice\", \"score\": 90}\n",
        "print(student[\"score\"])  # clear and readable\n",
        "\n",
        "3. **No Need to Remember Indexes**\n",
        "\n",
        "With lists, you must track the index of elements.\n",
        "\n",
        "With dictionaries, you can access data directly using a descriptive key.\n",
        "\n",
        "4. **Flexibility in Keys**\n",
        "\n",
        "Dictionaries can use many immutable objects as keys (strings, numbers, tuples), while lists only use numeric indexes.\n",
        "\n",
        "This allows more natural modeling of real-world data.\n",
        "\n",
        "5. **Efficient Updates**\n",
        "\n",
        "Updating a dictionary value by key is faster and more direct than finding and updating an element in a list.\n",
        "\n",
        "Example:\n",
        "\n",
        "# Update score in dictionary\n",
        "students[\"Alice\"] = 95   # fast update\n",
        "\n",
        "\n",
        "\n",
        "Dictionaries are preferred over lists when:\n",
        "\n",
        "You need fast lookups and updates.\n",
        "\n",
        "Data is better represented as key–value pairs.\n",
        "\n",
        "You want to make code more readable and meaningful."
      ],
      "metadata": {
        "id": "rQ2h9BIjuxB5"
      }
    },
    {
      "cell_type": "markdown",
      "source": [
        "Q 12  Describe a scenario where using a tuple would be preferable over a list ?\n"
      ],
      "metadata": {
        "id": "pZy5fPqvujbx"
      }
    },
    {
      "cell_type": "markdown",
      "source": [
        "In Python, tuples and lists are both sequence types, but the key difference is:\n",
        "\n",
        "List → mutable (can be changed).\n",
        "\n",
        "Tuple → immutable (cannot be changed).\n",
        "\n",
        "Because of immutability, there are scenarios where tuples are preferable over lists:\n",
        "\n",
        "Scenario: Representing Fixed Data That Shouldnt Change\n",
        "\n",
        "Imagine you are working with geographic coordinates (latitude, longitude) for a location:\n",
        "\n",
        "# Using a tuple\n",
        "\n",
        "location = (28.6139, 77.2090)  # Delhi, India\n",
        "\n",
        "\n",
        "Heres why a tuple is better than a list:\n",
        "\n",
        "Data Integrity → Coordinates should never accidentally change. Tuples protect against modification.\n",
        "\n",
        "Hashability → Tuples can be dictionary keys or set elements, lists cannot.\n",
        "\n",
        "visited_places =\n",
        "{(28.6139, 77.2090): \"Delhi\",  (19.0760, 72.8777): \"Mumbai\"}\n",
        "\n",
        "\n",
        "Performance → Tuples are slightly faster and use less memory compared to lists, which matters when handling lots of data.\n",
        "\n",
        "Other Scenarios Where Tuples Are Preferable\n",
        "\n",
        "Function return values: Returning multiple values from a function (e.g., (quotient, remainder) from division).\n",
        "\n",
        "Constants/Configuration data: e.g., days of the week → (\"Mon\", \"Tue\", \"Wed\", \"Thu\", \"Fri\", \"Sat\", \"Sun\").\n",
        "\n",
        "Structured records: Storing immutable records like RGB color (255, 0, 0) for red.\n",
        "\n",
        "Use a tuple when the collection of items is fixed, unchangeable, and semantically grouped together. Use a list when you need a dynamic, changeable sequence."
      ],
      "metadata": {
        "id": "DIP0D_E7vwWT"
      }
    },
    {
      "cell_type": "markdown",
      "source": [
        "Q13) How do sets handle duplicate values in Python?"
      ],
      "metadata": {
        "id": "RraZHro0wcyW"
      }
    },
    {
      "cell_type": "markdown",
      "source": [
        "In Python, sets automatically remove duplicates.\n",
        "A set is an unordered collection of unique elements, so if you try to add duplicate values, only one copy is kept.\n",
        "\n",
        "How it Works:\n",
        "\n",
        "When you insert a value into a set, Python uses hashing to check if the value already exists.\n",
        "\n",
        "If the value is already present, Python ignores the duplicate instead of adding it again.\n",
        "\n",
        "Example:\n",
        "# Creating a set with duplicate values\n",
        "numbers = {1, 2, 2, 3, 4, 4, 5}\n",
        "\n",
        "print(numbers)  # {1, 2, 3, 4, 5}\n",
        "\n",
        "\n",
        "Notice how duplicates 2 and 4 are removed.\n",
        "\n",
        "Adding Duplicates Later:\n",
        "s = {10, 20, 30}\n",
        "s.add(20)   # adding duplicate\n",
        "print(s)    # {10, 20, 30} -> no change\n",
        "\n",
        "Real-World Use Case:\n",
        "\n",
        "Suppose you have a list of names with duplicates and want only the unique ones:\n",
        "\n",
        "names = [\"Alice\", \"Bob\", \"Alice\", \"Charlie\", \"Bob\"]\n",
        "unique_names = set(names)\n",
        "print(unique_names)  # {'Alice', 'Charlie', 'Bob'}\n",
        "\n",
        "In short:\n",
        "Sets in Python do not allow duplicates — they ensure all elements are unique by automatically discarding repeated values."
      ],
      "metadata": {
        "id": "QOVyhXjvwwAc"
      }
    },
    {
      "cell_type": "markdown",
      "source": [
        "Q14) How does the “in” keyword work differently for lists and dictionaries ?"
      ],
      "metadata": {
        "id": "q44UEfJkxBSz"
      }
    },
    {
      "cell_type": "markdown",
      "source": [
        "The in keyword behaves differently depending on whether you use it with a list or a dictionary in Python.\n",
        "\n",
        "For Lists\n",
        "\n",
        "in checks whether a value exists as an element in the list.\n",
        "\n",
        "It performs a linear search → checks each element one by one (O(n) time complexity).\n",
        "\n",
        " Example:\n",
        "\n",
        "numbers = [10, 20, 30, 40]\n",
        "\n",
        "print(20 in numbers)   # True (20 is in the list)\n",
        "print(50 in numbers)   # False\n",
        "\n",
        " For Dictionaries\n",
        "\n",
        "in checks whether a key exists in the dictionary, not the value.\n",
        "\n",
        "Lookup is very fast because dictionaries use hashing (O(1) average time).\n",
        "\n",
        " Example:\n",
        "\n",
        "student = {\"name\": \"Alice\", \"age\": 21, \"grade\": \"A\"}\n",
        "\n",
        "print(\"name\" in student)   # True (key exists)\n",
        "print(\"Alice\" in student)  # False (value, not key)\n",
        "\n",
        "\n",
        "If you want to check values explicitly, you use .values():\n",
        "\n",
        "print(\"Alice\" in student.values())  # True\n",
        "\n",
        " Summary\n",
        "Data Type\tin Checks For\tTime Complexity\n",
        "List\tValue (element)\tO(n) – linear search\n",
        "Dictionary\tKey (by default)\tO(1) – hash lookup\n",
        "\n",
        " In short:\n",
        "\n",
        "For lists, in looks for an element.\n",
        "\n",
        "For dictionaries, in looks for a key (not a value)."
      ],
      "metadata": {
        "id": "Ae3E_tgXxY1b"
      }
    },
    {
      "cell_type": "markdown",
      "source": [
        "Q15) Can you modify the elements of a tuple? Explain why or why not ?\n",
        "\n",
        "\n"
      ],
      "metadata": {
        "id": "Dtu6Z0-dxost"
      }
    },
    {
      "cell_type": "markdown",
      "source": [
        "No, you cannot modify the elements of a tuple in Python — tuples are immutable.\n",
        "\n",
        "Immutability → Once a tuple is created, its contents (the sequence of items) cannot be changed.\n",
        "\n",
        "You cannot add, remove, or update elements.\n",
        "\n",
        "Any attempt to do so raises a TypeError.\n",
        "\n",
        " Example:\n",
        "\n",
        "t = (1, 2, 3)\n",
        "t[1] = 99   # TypeError: 'tuple' object does not support item assignment\n",
        "\n",
        "\n",
        "Hashability & Safety →\n",
        "\n",
        "Tuples can be used as dictionary keys or set elements because they are immutable.\n",
        "\n",
        "If tuples could be modified, their hash value could change, breaking lookups in dictionaries and sets.\n",
        "\n",
        "Data Integrity → Tuples are often used to represent fixed collections of items (like coordinates (x, y) or RGB values). Immutability prevents accidental changes.\n",
        "\n",
        "But Wait… What if the Tuple Contains a Mutable Object?\n",
        "\n",
        "The tuple itself is immutable, but if it contains a mutable element (like a list), that object can be modified.\n",
        "\n",
        "Example:\n",
        "\n",
        "t = (1, [2, 3], 4)\n",
        "\n",
        "t[1].append(99)   #  allowed, because the list inside the tuple is mutable\n",
        "print(t)          # (1, [2, 3, 99], 4)\n",
        "\n",
        "\n",
        "You re not changing the tuples structure — you re just mutating the inner list.\n",
        "\n",
        "\n",
        "You cannot modify tuple elements directly because tuples are immutable.\n",
        "\n",
        "However, if a tuple contains a mutable object, that object can still be changed."
      ],
      "metadata": {
        "id": "NHRjR4GqyGrj"
      }
    },
    {
      "cell_type": "markdown",
      "source": [
        "Q16) What is a nested dictionary, and give an example of its use case ?"
      ],
      "metadata": {
        "id": "aITCWFgiyf8d"
      }
    },
    {
      "cell_type": "markdown",
      "source": [
        "What is a Nested Dictionary\n",
        "\n",
        "A nested dictionary in Python is simply a dictionary inside another dictionary.\n",
        "\n",
        "The outer dictionary stores keys whose values are themselves dictionaries.\n",
        "\n",
        "This allows you to represent hierarchical (multi-level) data.\n",
        "\n",
        "Example of a Nested Dictionary\n",
        "\n",
        "Let s store information about students in a classroom:\n",
        "\n",
        "students = {\n",
        "    \"101\": {\"name\": \"Alice\", \"age\": 20, \"grade\": \"A\"},\n",
        "    \"102\": {\"name\": \"Bob\", \"age\": 21, \"grade\": \"B\"},\n",
        "    \"103\": {\"name\": \"Charlie\", \"age\": 19, \"grade\": \"A\"}\n",
        "}\n",
        "\n",
        "\n",
        "Here:\n",
        "\n",
        "\"101\", \"102\", \"103\" → outer dictionary keys (student IDs).\n",
        "\n",
        "Each value is another dictionary with details like name, age, grade.\n",
        "\n",
        "Use Case of Nested Dictionaries\n",
        "\n",
        "Representing structured data (like JSON from APIs or databases).\n",
        "\n",
        "Storing hierarchical information such as:\n",
        "\n",
        "Student records (ID → details).\n",
        "\n",
        "Employee details (Department → Employee → Info).\n",
        "\n",
        "Country → State → City data.\n",
        "\n",
        "\n",
        " Real-world Example: Company Employee Directory\n",
        "company = {\n",
        "    \"HR\": {\n",
        "        \"E101\": {\"name\": \"Alice\", \"position\": \"Manager\"},\n",
        "        \"E102\": {\"name\": \"Bob\", \"position\": \"Recruiter\"}\n",
        "    },\n",
        "    \n",
        "    \n",
        "    \"IT\": {\n",
        "        \"E201\": {\"name\": \"Charlie\", \"position\": \"Developer\"},\n",
        "        \"E202\": {\"name\": \"Diana\", \"position\": \"SysAdmin\"}\n",
        "    }\n",
        "}\n",
        "\n",
        " With this structure:\n",
        "\n",
        "company[\"HR\"][\"E101\"][\"name\"] → \"Alice\"\n",
        "\n",
        "company[\"IT\"][\"E202\"][\"position\"] → \"SysAdmin\"\n",
        "\n",
        "\n",
        "\n",
        "A nested dictionary lets you store multi-level structured data, which is useful for modeling complex real-world information like student records, employee databases, or JSON data."
      ],
      "metadata": {
        "id": "Yt2E8oATy0ID"
      }
    },
    {
      "cell_type": "markdown",
      "source": [
        "Q17)Describe the time complexity of accessing elements in a dictionary ?\n"
      ],
      "metadata": {
        "id": "hFCxYJlFzvkh"
      }
    },
    {
      "cell_type": "markdown",
      "source": [
        "ictionary Access in Python\n",
        "\n",
        "Dictionaries in Python are implemented using a hash table.\n",
        "\n",
        "Keys are hashed to determine where their corresponding values are stored in memory.\n",
        "\n",
        "This makes lookups, insertions, and deletions very efficient.\n",
        "\n",
        " Time Complexity of Accessing Elements\n",
        "\n",
        "Average Case:\n",
        "\n",
        "O(1) → constant time.\n",
        "\n",
        "Because hashing allows direct access to the location of the value.\n",
        "\n",
        "Example:\n",
        "\n",
        "student = {\"name\": \"Alice\", \"age\": 21, \"grade\": \"A\"}\n",
        "print(student[\"age\"])  # O(1)\n",
        "\n",
        "\n",
        "Worst Case:\n",
        "\n",
        "O(n) → linear time.\n",
        "\n",
        "Happens rarely when many keys hash to the same slot (hash collisions), forcing Python to check multiple keys sequentially.\n",
        "\n",
        "Python minimizes this with good hash functions and dynamic resizing of hash tables.\n",
        "\n",
        "Accessing elements in a dictionary is usually O(1) (very fast) because of hashing, but in rare worst-case scenarios, it can degrade to O(n)."
      ],
      "metadata": {
        "id": "ZB4ZMAZL0BTk"
      }
    },
    {
      "cell_type": "markdown",
      "source": [
        "Q18) In what situations are lists preferred over dictionaries?"
      ],
      "metadata": {
        "id": "5PN0HLsR0ZFw"
      }
    },
    {
      "cell_type": "markdown",
      "source": [
        "Situations Where Lists Are Preferred Over Dictionaries\n",
        "\n",
        "1. Order Matters\n",
        "\n",
        "Lists preserve the order of elements (insertion order).\n",
        "\n",
        "Dictionaries (since Python 3.7+) also preserve insertion order, but lists are still better when you only care about order without needing keys.\n",
        "\n",
        "Example:\n",
        "\n",
        "tasks = [\"Wake up\", \"Study\", \"Exercise\", \"Sleep\"]\n",
        "# Order is meaningful (like a to-do list).\n",
        "\n",
        "2. Index-Based Access\n",
        "\n",
        "Lists let you access elements by numeric index (list[0], list[-1]).\n",
        "\n",
        "This is simpler than managing dictionary keys when the data is naturally sequential.\n",
        "\n",
        "Example:\n",
        "\n",
        "fruits = [\"apple\", \"banana\", \"cherry\"]\n",
        "print(fruits[1])  # banana\n",
        "\n",
        "3. Simple Collections (No Key–Value Needed)\n",
        "\n",
        "If you just need to store a group of items (names, numbers, objects) without extra labeling, a list is simpler and cleaner than a dictionary.\n",
        "\n",
        " Example:\n",
        "\n",
        "scores = [85, 90, 78, 92]\n",
        "\n",
        "4. Duplicates Allowed\n",
        "\n",
        "Lists allow duplicates, but dictionaries do not allow duplicate keys.\n",
        "\n",
        "Use a list when repeating values matter.\n",
        "\n",
        "\n",
        "Example:\n",
        "\n",
        "votes = [\"Alice\", \"Bob\", \"Alice\", \"Charlie\"]  # duplicates are fine\n",
        "\n",
        "5. Iteration in Order\n",
        "\n",
        "Lists are great when you want to iterate in sequence.\n",
        "\n",
        "For tasks like looping through items in a specific order, lists are more natural.\n",
        "\n",
        "6. Lightweight & Memory-Efficient\n",
        "\n",
        "Lists are lighter than dictionaries when you only need values, not key–value mappings.\n",
        "\n",
        "This makes them faster and more memory-efficient for small or simple collections.\n",
        "\n",
        "\n",
        "\n",
        "Use lists when:\n",
        "\n",
        "Data is ordered and sequential.\n",
        "\n",
        "You need index-based access.\n",
        "\n",
        "Duplicates are allowed.\n",
        "\n",
        "You just need a collection of values, not key–value pairs.\n",
        "\n",
        "Use dictionaries when:\n",
        "\n",
        "You need fast lookups by key.\n",
        "\n",
        "Data is naturally mapped (ID → details, word → count, etc.)."
      ],
      "metadata": {
        "id": "_pJz0PnF0ecE"
      }
    },
    {
      "cell_type": "markdown",
      "source": [
        "Q19) Why are dictionaries considered unordered, and how does that affect data retrieval?"
      ],
      "metadata": {
        "id": "qLMJcqtO1AIk"
      }
    },
    {
      "cell_type": "markdown",
      "source": [
        "Why Dictionaries Were Considered Unordered\n",
        "\n",
        "Traditionally (before Python 3.7), dictionaries were unordered collections, meaning:\n",
        "\n",
        "They didnt guarantee that the items would be stored or retrieved in the same order you inserted them.\n",
        "\n",
        "The reason is that dictionaries are implemented using a hash table, where keys are placed based on their hash value, not their insertion sequence.\n",
        "\n",
        "So, if you wrote:\n",
        "\n",
        "person = {\"name\": \"Alice\", \"age\": 21, \"city\": \"Delhi\"}\n",
        "print(person)\n",
        "\n",
        "\n",
        "You couldn’t be sure in older Python versions whether the order would be \"name\", \"age\", \"city\" or something else.\n",
        "\n",
        "Change in Python 3.7+\n",
        "\n",
        "Starting from Python 3.7 (and officially guaranteed in 3.8+):\n",
        " Dictionaries preserve insertion order by default.\n",
        "\n",
        "This means the order in which you add keys will be the order you get them back when iterating.\n",
        "\n",
        "However, order preservation is a feature of the implementation, not the primary purpose of dictionaries.\n",
        "\n",
        "How Unordered Nature Affects Data Retrieval\n",
        "\n",
        "Key-Based Retrieval is Unaffected\n",
        "\n",
        "Retrieval by key is always fast (O(1)), because hashing doesn’t care about order.\n",
        "\n",
        "Example:\n",
        "\n",
        "student = {\"id\": 101, \"name\": \"Alice\", \"grade\": \"A\"}\n",
        "print(student[\"name\"])  # Always works, no matter the order\n",
        "\n",
        "\n",
        "Iteration Order May Vary (before 3.7)\n",
        "\n",
        "If you looped over a dictionary in older versions of Python, the order could seem “random.”\n",
        "\n",
        "This didn’t affect correctness (since you use keys to fetch values), but it made ordered data storage unreliable.\n",
        "\n",
        "No Index-Based Access\n",
        "\n",
        "Unlike lists, you can’t do dict[0] to get the “first” item, because dictionaries don’t use numeric positions — they use keys.\n",
        "\n",
        " In Summary\n",
        "\n",
        "Dictionaries are considered unordered because their internal storage is based on hashing, not sequence.\n",
        "\n",
        "This doesnt affect retrieval by key (always O(1)), but it historically meant you couldnt rely on insertion order when iterating.\n",
        "\n",
        "Since Python 3.7+, they preserve insertion order, but their main purpose remains fast key-based lookups, not ordering."
      ],
      "metadata": {
        "id": "iQWQbpu11NIE"
      }
    },
    {
      "cell_type": "markdown",
      "source": [
        "Q20)Explain the difference between a list and a dictionary in terms of data retrieval."
      ],
      "metadata": {
        "id": "TeU73-qd1jRe"
      }
    },
    {
      "cell_type": "markdown",
      "source": [
        "1. Lists → Index-Based Retrieval\n",
        "\n",
        "Lists store items in a sequential order.\n",
        "\n",
        "To retrieve an element, you must know its index (position).\n",
        "\n",
        "Retrieval time complexity: O(1) if you know the index.\n",
        "\n",
        "Searching for a specific value (without knowing its index) requires scanning the list → O(n).\n",
        "\n",
        " Example:\n",
        "\n",
        "fruits = [\"apple\", \"banana\", \"cherry\"]\n",
        "\n",
        "# Retrieval by index\n",
        "print(fruits[1])  # banana (O(1))\n",
        "\n",
        "# Searching for a value\n",
        "print(\"cherry\" in fruits)  # True (O(n))\n",
        "\n",
        "\n",
        "2. Dictionaries → Key-Based Retrieval\n",
        "\n",
        "Dictionaries store data as key–value pairs.\n",
        "\n",
        "To retrieve an element, you provide its key.\n",
        "\n",
        "Retrieval is very fast because dictionaries use hashing → O(1) average case.\n",
        "\n",
        "No need to remember positions or scan the whole dictionary.\n",
        "\n",
        "Example:\n",
        "\n",
        "student = {\"name\": \"Alice\", \"age\": 21, \"grade\": \"A\"}\n",
        "\n",
        "# Retrieval by key\n",
        "print(student[\"age\"])  # 21 (O(1))\n",
        "\n",
        "# Checking if a key exists\n",
        "print(\"grade\" in student)  # True (O(1))\n",
        "\n",
        "\n",
        "Side-by-Side Comparison\n",
        "Feature\tList\tDictionary\n",
        "Retrieval method\tBy index/position\tBy key\n",
        "Access complexity\tO(1) (with index) / O(n) (searching)\tO(1) average (hash lookup)\n",
        "Data organization\tOrdered sequence of values\tKey–value mappings\n",
        "When to use?\tIf data is sequential\tIf data is mapped/labeled\n",
        "\n",
        "\n",
        "\n",
        "Use a list when you care about order and index-based retrieval.\n",
        "\n",
        "Use a dictionary when you need fast lookups by unique keys."
      ],
      "metadata": {
        "id": "i4-M2S811rd4"
      }
    },
    {
      "cell_type": "markdown",
      "source": [
        "**Practical Questions  **"
      ],
      "metadata": {
        "id": "jratmY0y16iQ"
      }
    },
    {
      "cell_type": "markdown",
      "source": [
        "Q1) Write a code to create a string with your name and print it ?"
      ],
      "metadata": {
        "id": "UxQ2xsK-2D1H"
      }
    },
    {
      "cell_type": "code",
      "source": [
        "# Creating a string with my name\n",
        "name = \"Neha Rawal\"\n",
        "\n",
        "# Printing the string\n",
        "print(name)\n"
      ],
      "metadata": {
        "colab": {
          "base_uri": "https://localhost:8080/"
        },
        "id": "nP5FVEOy2WBu",
        "outputId": "72e0f056-7b8a-4f5b-c157-86640a04f782"
      },
      "execution_count": null,
      "outputs": [
        {
          "output_type": "stream",
          "name": "stdout",
          "text": [
            "Neha Rawal\n"
          ]
        }
      ]
    },
    {
      "cell_type": "markdown",
      "source": [
        "Q2) Write a code to find the length of the string \"Hello World\"?"
      ],
      "metadata": {
        "id": "XJB5v7mW2u6Z"
      }
    },
    {
      "cell_type": "code",
      "source": [
        "# String\n",
        "text = \"Hello World\"\n",
        "\n",
        "# Finding length using len()\n",
        "length = len(text)\n",
        "\n",
        "# Printing result\n",
        "print(\"Length of the string:\", length)"
      ],
      "metadata": {
        "colab": {
          "base_uri": "https://localhost:8080/"
        },
        "id": "y48M9kNL3Bxt",
        "outputId": "dd01fc0f-e31f-427c-bfda-f52500102e6e"
      },
      "execution_count": null,
      "outputs": [
        {
          "output_type": "stream",
          "name": "stdout",
          "text": [
            "Length of the string: 11\n"
          ]
        }
      ]
    },
    {
      "cell_type": "markdown",
      "source": [],
      "metadata": {
        "id": "-1km_27o3Y8o"
      }
    }
  ]
}